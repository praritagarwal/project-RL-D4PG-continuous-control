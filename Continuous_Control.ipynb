{
 "cells": [
  {
   "cell_type": "markdown",
   "metadata": {},
   "source": [
    "# Continuous Control\n",
    "\n",
    "---\n",
    "\n",
    "In this notebook, you will learn how to use the Unity ML-Agents environment for the second project of the [Deep Reinforcement Learning Nanodegree](https://www.udacity.com/course/deep-reinforcement-learning-nanodegree--nd893) program.\n",
    "\n",
    "### 1. Start the Environment\n",
    "\n",
    "We begin by importing the necessary packages.  If the code cell below returns an error, please revisit the project instructions to double-check that you have installed [Unity ML-Agents](https://github.com/Unity-Technologies/ml-agents/blob/master/docs/Installation.md) and [NumPy](http://www.numpy.org/)."
   ]
  },
  {
   "cell_type": "code",
   "execution_count": 1,
   "metadata": {},
   "outputs": [],
   "source": [
    "from unityagents import UnityEnvironment\n",
    "import numpy as np"
   ]
  },
  {
   "cell_type": "markdown",
   "metadata": {},
   "source": [
    "Next, we will start the environment!  **_Before running the code cell below_**, change the `file_name` parameter to match the location of the Unity environment that you downloaded.\n",
    "\n",
    "- **Mac**: `\"path/to/Reacher.app\"`\n",
    "- **Windows** (x86): `\"path/to/Reacher_Windows_x86/Reacher.exe\"`\n",
    "- **Windows** (x86_64): `\"path/to/Reacher_Windows_x86_64/Reacher.exe\"`\n",
    "- **Linux** (x86): `\"path/to/Reacher_Linux/Reacher.x86\"`\n",
    "- **Linux** (x86_64): `\"path/to/Reacher_Linux/Reacher.x86_64\"`\n",
    "- **Linux** (x86, headless): `\"path/to/Reacher_Linux_NoVis/Reacher.x86\"`\n",
    "- **Linux** (x86_64, headless): `\"path/to/Reacher_Linux_NoVis/Reacher.x86_64\"`\n",
    "\n",
    "For instance, if you are using a Mac, then you downloaded `Reacher.app`.  If this file is in the same folder as the notebook, then the line below should appear as follows:\n",
    "```\n",
    "env = UnityEnvironment(file_name=\"Reacher.app\")\n",
    "```"
   ]
  },
  {
   "cell_type": "markdown",
   "metadata": {},
   "source": [
    "For single agent Reacher_NoVis [click here](https://s3-us-west-1.amazonaws.com/udacity-drlnd/P2/Reacher/one_agent/Reacher_Linux_NoVis.zip)\n",
    "\n",
    "For multiagent Reacher_NoVis [click here](https://s3-us-west-1.amazonaws.com/udacity-drlnd/P2/Reacher/Reacher_Linux_NoVis.zip)"
   ]
  },
  {
   "cell_type": "code",
   "execution_count": 2,
   "metadata": {},
   "outputs": [
    {
     "name": "stderr",
     "output_type": "stream",
     "text": [
      "INFO:unityagents:\n",
      "'Academy' started successfully!\n",
      "Unity Academy name: Academy\n",
      "        Number of Brains: 1\n",
      "        Number of External Brains : 1\n",
      "        Lesson number : 0\n",
      "        Reset Parameters :\n",
      "\t\tgoal_size -> 5.0\n",
      "\t\tgoal_speed -> 1.0\n",
      "Unity brain name: ReacherBrain\n",
      "        Number of Visual Observations (per agent): 0\n",
      "        Vector Observation space type: continuous\n",
      "        Vector Observation space size (per agent): 33\n",
      "        Number of stacked Vector Observation: 1\n",
      "        Vector Action space type: continuous\n",
      "        Vector Action space size (per agent): 4\n",
      "        Vector Action descriptions: , , , \n"
     ]
    }
   ],
   "source": [
    "env = UnityEnvironment(file_name='env2/Reacher_Linux_NoVis/Reacher.x86_64')"
   ]
  },
  {
   "cell_type": "markdown",
   "metadata": {},
   "source": [
    "Environments contain **_brains_** which are responsible for deciding the actions of their associated agents. Here we check for the first brain available, and set it as the default brain we will be controlling from Python."
   ]
  },
  {
   "cell_type": "code",
   "execution_count": 3,
   "metadata": {},
   "outputs": [],
   "source": [
    "# get the default brain\n",
    "brain_name = env.brain_names[0]\n",
    "brain = env.brains[brain_name]"
   ]
  },
  {
   "cell_type": "markdown",
   "metadata": {},
   "source": [
    "### 2. Examine the State and Action Spaces\n",
    "\n",
    "In this environment, a double-jointed arm can move to target locations. A reward of `+0.1` is provided for each step that the agent's hand is in the goal location. Thus, the goal of your agent is to maintain its position at the target location for as many time steps as possible.\n",
    "\n",
    "The observation space consists of `33` variables corresponding to position, rotation, velocity, and angular velocities of the arm.  Each action is a vector with four numbers, corresponding to torque applicable to two joints.  Every entry in the action vector must be a number between `-1` and `1`.\n",
    "\n",
    "Run the code cell below to print some information about the environment."
   ]
  },
  {
   "cell_type": "code",
   "execution_count": 4,
   "metadata": {},
   "outputs": [
    {
     "name": "stdout",
     "output_type": "stream",
     "text": [
      "Number of agents: 20\n",
      "Size of each action: 4\n",
      "There are 20 agents. Each observes a state with length: 33\n",
      "The state for the first agent looks like: [ 0.00000000e+00 -4.00000000e+00  0.00000000e+00  1.00000000e+00\n",
      " -0.00000000e+00 -0.00000000e+00 -4.37113883e-08  0.00000000e+00\n",
      "  0.00000000e+00  0.00000000e+00  0.00000000e+00  0.00000000e+00\n",
      "  0.00000000e+00  0.00000000e+00 -1.00000000e+01  0.00000000e+00\n",
      "  1.00000000e+00 -0.00000000e+00 -0.00000000e+00 -4.37113883e-08\n",
      "  0.00000000e+00  0.00000000e+00  0.00000000e+00  0.00000000e+00\n",
      "  0.00000000e+00  0.00000000e+00  5.75471878e+00 -1.00000000e+00\n",
      "  5.55726624e+00  0.00000000e+00  1.00000000e+00  0.00000000e+00\n",
      " -1.68164849e-01]\n"
     ]
    }
   ],
   "source": [
    "# reset the environment\n",
    "env_info = env.reset(train_mode=True)[brain_name]\n",
    "\n",
    "# number of agents\n",
    "num_agents = len(env_info.agents)\n",
    "print('Number of agents:', num_agents)\n",
    "\n",
    "# size of each action\n",
    "action_size = brain.vector_action_space_size\n",
    "print('Size of each action:', action_size)\n",
    "\n",
    "# examine the state space \n",
    "states = env_info.vector_observations\n",
    "state_size = states.shape[1]\n",
    "print('There are {} agents. Each observes a state with length: {}'.format(states.shape[0], state_size))\n",
    "print('The state for the first agent looks like:', states[0])"
   ]
  },
  {
   "cell_type": "code",
   "execution_count": 5,
   "metadata": {},
   "outputs": [
    {
     "data": {
      "text/plain": [
       "(20, 33)"
      ]
     },
     "execution_count": 5,
     "metadata": {},
     "output_type": "execute_result"
    }
   ],
   "source": [
    "states.shape"
   ]
  },
  {
   "cell_type": "markdown",
   "metadata": {},
   "source": [
    "### 3. Take Random Actions in the Environment\n",
    "\n",
    "In the next code cell, you will learn how to use the Python API to control the agent and receive feedback from the environment.\n",
    "\n",
    "Once this cell is executed, you will watch the agent's performance, if it selects an action at random with each time step.  A window should pop up that allows you to observe the agent, as it moves through the environment.  \n",
    "\n",
    "Of course, as part of the project, you'll have to change the code so that the agent is able to use its experience to gradually choose better actions when interacting with the environment!"
   ]
  },
  {
   "cell_type": "code",
   "execution_count": 5,
   "metadata": {},
   "outputs": [
    {
     "name": "stdout",
     "output_type": "stream",
     "text": [
      "Total score (averaged over agents) this episode: 0.13149999706074594\n"
     ]
    }
   ],
   "source": [
    "env_info = env.reset(train_mode=False)[brain_name]     # reset the environment    \n",
    "states = env_info.vector_observations                  # get the current state (for each agent)\n",
    "scores = np.zeros(num_agents)                          # initialize the score (for each agent)\n",
    "while True:\n",
    "    actions = np.random.randn(num_agents, action_size) # select an action (for each agent)\n",
    "    actions = np.clip(actions, -1, 1)                  # all actions between -1 and 1\n",
    "    env_info = env.step(actions)[brain_name]           # send all actions to tne environment\n",
    "    next_states = env_info.vector_observations         # get next state (for each agent)\n",
    "    rewards = env_info.rewards                         # get reward (for each agent)\n",
    "    dones = env_info.local_done                        # see if episode finished\n",
    "    scores += env_info.rewards                         # update the score (for each agent)\n",
    "    states = next_states                               # roll over states to next time step\n",
    "    if np.any(dones):                                  # exit loop if episode finished\n",
    "        break\n",
    "print('Total score (averaged over agents) this episode: {}'.format(np.mean(scores)))"
   ]
  },
  {
   "cell_type": "markdown",
   "metadata": {},
   "source": [
    "Note that the environment is setup such that it necessarily monitors the agents for 1000 steps and then terminates. Thus all the agents get a done at exactly the same time. This can also be verified by explicitly counting the number of steps executed before the episode ends. This always comes out to be 1000. Let us see this explicitly in the following code cell (we will also tweak the condition to the end the episode to be given by when all the agents are done, though this will not matter): "
   ]
  },
  {
   "cell_type": "code",
   "execution_count": 6,
   "metadata": {},
   "outputs": [
    {
     "name": "stdout",
     "output_type": "stream",
     "text": [
      "Total score (averaged over agents) this episode: 0.0874999980442226\n",
      "number of steps executed in the episode: 1001\n",
      "Total score (averaged over agents) this episode: 0.12599999718368055\n",
      "number of steps executed in the episode: 1001\n",
      "Total score (averaged over agents) this episode: 0.08399999812245369\n",
      "number of steps executed in the episode: 1001\n",
      "Total score (averaged over agents) this episode: 0.1114999975077808\n",
      "number of steps executed in the episode: 1001\n",
      "Total score (averaged over agents) this episode: 0.14699999671429395\n",
      "number of steps executed in the episode: 1001\n"
     ]
    }
   ],
   "source": [
    "# count the number of steps in 5 episodes\n",
    "def check_num_steps(num_episodes = 5):\n",
    "    for _ in range(num_episodes):\n",
    "        env_info = env.reset(train_mode=False)[brain_name]     # reset the environment    \n",
    "        states = env_info.vector_observations                  # get the current state (for each agent)\n",
    "        scores = np.zeros(num_agents)                          # initialize the score (for each agent)\n",
    "        steps = 0\n",
    "        while True:\n",
    "            actions = np.random.randn(num_agents, action_size) # select an action (for each agent)\n",
    "            actions = np.clip(actions, -1, 1)                  # all actions between -1 and 1\n",
    "            env_info = env.step(actions)[brain_name]           # send all actions to tne environment\n",
    "            next_states = env_info.vector_observations         # get next state (for each agent)\n",
    "            rewards = env_info.rewards                         # get reward (for each agent)\n",
    "            dones = env_info.local_done                        # see if episode finished\n",
    "            steps+=1\n",
    "            scores += env_info.rewards                         # update the score (for each agent)\n",
    "            states = next_states                               # roll over states to next time step\n",
    "            if np.all(dones): \n",
    "                break\n",
    "        print('Total score (averaged over agents) this episode: {}'.format(np.mean(scores)))\n",
    "        print('number of steps executed in the episode: {}'.format(steps))\n",
    "\n",
    "check_num_steps()        "
   ]
  },
  {
   "cell_type": "code",
   "execution_count": 7,
   "metadata": {},
   "outputs": [
    {
     "data": {
      "text/plain": [
       "numpy.ndarray"
      ]
     },
     "execution_count": 7,
     "metadata": {},
     "output_type": "execute_result"
    }
   ],
   "source": [
    "type(states)"
   ]
  },
  {
   "cell_type": "markdown",
   "metadata": {},
   "source": [
    "When finished, you can close the environment."
   ]
  },
  {
   "cell_type": "code",
   "execution_count": 8,
   "metadata": {},
   "outputs": [],
   "source": [
    "env.close()"
   ]
  },
  {
   "cell_type": "code",
   "execution_count": 9,
   "metadata": {},
   "outputs": [
    {
     "data": {
      "text/plain": [
       "20"
      ]
     },
     "execution_count": 9,
     "metadata": {},
     "output_type": "execute_result"
    }
   ],
   "source": [
    "len(rewards)"
   ]
  },
  {
   "cell_type": "markdown",
   "metadata": {},
   "source": [
    "### 4. It's Your Turn!\n",
    "\n",
    "Now it's your turn to train your own agent to solve the environment!  When training the environment, set `train_mode=True`, so that the line for resetting the environment looks like the following:\n",
    "```python\n",
    "env_info = env.reset(train_mode=True)[brain_name]\n",
    "```"
   ]
  },
  {
   "cell_type": "markdown",
   "metadata": {},
   "source": [
    "#### the flow of training will be as follows:\n",
    "\n",
    "Note that episodes come to an end after a fixed time. Therefore there is no terminal state in the game. Hence, there are no actions so bad taht they will lead the agent to a terminal state causing it to finish earlier than it should. The only categorization of actions is whether they help it maintain its position in the goal or not. Had the time not run out, the action could have scored better or worse. In this way I feel that this task is similar to being a continuous task with the hard-cut off on time making it episodic. I therefore feel that we should not use dones for evaluating the target value in the TD-step. In concurrence with this idea, I will only collect experiences where the neither of the states were the last states of that episode. This also implies that I will not include dones in the memory\n",
    "\n",
    "    repeat for num_episodes\n",
    "      reset the env.\n",
    "      obtain the initial states\n",
    "      for the first roll_out - 1 steps in each episode\n",
    "        obtain actions for the current states\n",
    "        obtain the rewards \n",
    "        obtain dones\n",
    "        concatenate the current states, actions, and rewards \n",
    "        push each row of the concatenated array into its corresponding deque\n",
    "        obtain the next states\n",
    "        states = next_states\n",
    "   \n",
    "      for all subsequent steps in each episode i.e. until done\n",
    "        obtain actions for the current states\n",
    "        obtain the rewards \n",
    "        obtain dones\n",
    "        if not done then \n",
    "           concatenate the current states, actions and rewards \n",
    "           push each row of the concatenated array into its corresponding deque\n",
    "           pass the list of deques to the agent\n",
    "           agent takes a step to put the experiences in the buffer and learn\n",
    "           obtain the next states\n",
    "           states = next_states\n",
    "        else\n",
    "           break to start a new episode\n",
    "       "
   ]
  },
  {
   "cell_type": "code",
   "execution_count": 6,
   "metadata": {},
   "outputs": [],
   "source": [
    "import random\n",
    "import torch\n",
    "import numpy as np\n",
    "from collections import deque\n",
    "import matplotlib.pyplot as plt"
   ]
  },
  {
   "cell_type": "code",
   "execution_count": 7,
   "metadata": {},
   "outputs": [],
   "source": [
    "from DDPG_Agent import Agent"
   ]
  },
  {
   "cell_type": "code",
   "execution_count": 8,
   "metadata": {},
   "outputs": [
    {
     "name": "stdout",
     "output_type": "stream",
     "text": [
      "Episode 100\tAverage Score: 1.21\n",
      "Episode 200\tAverage Score: 3.61\n",
      "Episode 300\tAverage Score: 6.72\n",
      "Episode 400\tAverage Score: 21.15\n",
      "Episode 475\tAverage Score: 30.00\n",
      "Environment solved in 375 episodes!\tAverage Score: 30.00\n"
     ]
    },
    {
     "data": {
      "image/png": "[encoded data removed]",
      "text/plain": [
       "<Figure size 432x288 with 1 Axes>"
      ]
     },
     "metadata": {
      "needs_background": "light"
     },
     "output_type": "display_data"
    }
   ],
   "source": [
    "def ddpg(n_episodes=2000, roll_out = 5):\n",
    "    \"\"\"DDPG\n",
    "    \n",
    "    Params\n",
    "    ======\n",
    "        n_episodes (int): maximum number of training episodes\n",
    "    \"\"\"\n",
    "    ep_scores = []                        # list containing scores from each episode\n",
    "    scores_window = deque(maxlen=100)  # last 100 scores\n",
    "    experience_windows = [deque(maxlen = roll_out) for _ in range(num_agents)]\n",
    "    for i_episode in range(1, n_episodes+1):\n",
    "        env_info = env.reset(train_mode=True)[brain_name]\n",
    "        states = env_info.vector_observations            # get the current state\n",
    "        scores = np.zeros(num_agents)\n",
    "        for step in range(roll_out-1):\n",
    "            actions = agent.act(states) # select an action (for each agent)\n",
    "            env_info = env.step(actions)[brain_name]           # send all actions to tne environment\n",
    "            next_states = env_info.vector_observations         # get next state (for each agent)\n",
    "            rewards = env_info.rewards                         # get reward (for each agent)\n",
    "            #dones = env_info.local_done                        # see if episode finished\n",
    "            #if np.any(dones):\n",
    "            #    break\n",
    "            single_step_mem = np.concatenate((states, \n",
    "                                              actions,\n",
    "                                              np.array(rewards).reshape(-1,1)), \n",
    "                                             axis = 1)\n",
    "            for idx in range(num_agents):\n",
    "                experience_windows[idx].append(single_step_mem[idx])\n",
    "        \n",
    "            scores += rewards                         # update the score (for each agent)\n",
    "            states = next_states\n",
    "        \n",
    "        \n",
    "        while True:\n",
    "            actions = agent.act(states)\n",
    "            env_info = env.step(actions)[brain_name]        # send the action to the environment\n",
    "            next_states = env_info.vector_observations      # get the next state\n",
    "            rewards = env_info.rewards                      # get the reward\n",
    "            dones = env_info.local_done                     # see if episode has finished\n",
    "            scores += rewards\n",
    "            if np.any(dones):                               # if finished then move to next episode\n",
    "                break\n",
    "            single_step_mem = np.concatenate((states, \n",
    "                                              actions,\n",
    "                                              np.array(rewards).reshape(-1,1)), \n",
    "                                             axis = 1)\n",
    "            for idx in range(num_agents):\n",
    "                experience_windows[idx].append(single_step_mem[idx])\n",
    "                \n",
    "            agent.step(experience_windows)\n",
    "            states = next_states\n",
    "        \n",
    "        scores_window.append(np.mean(scores))       # save most recent scores averaged over the agents\n",
    "        ep_scores.append(np.mean(scores))           # save most recent scores averaged over the agents\n",
    "        print('\\rEpisode {}\\tAverage Score: {:.2f}'.format(i_episode, np.mean(scores_window)), end=\"\")\n",
    "        if i_episode % 100 == 0:\n",
    "            print('\\rEpisode {}\\tAverage Score: {:.2f}'.format(i_episode, np.mean(scores_window)))\n",
    "            # print('memory size: {}'.format(len(agent.memory)))\n",
    "        if np.mean(scores_window)>=30.0:\n",
    "            print('\\nEnvironment solved in {:d} episodes!\\tAverage Score: {:.2f}'.format(i_episode-100, np.mean(scores_window)))\n",
    "            torch.save({'local_actor': agent.local_actor.state_dict(), \n",
    "                        'local_critic': agent.local_critic.state_dict()}, 'checkpoint.pth')\n",
    "            break\n",
    "    return ep_scores\n",
    "\n",
    "agent = Agent(n_states = state_size, n_actions = action_size, roll_out = 5,  \n",
    "              update_interval = 3)\n",
    "scores = ddpg(n_episodes = 5000, roll_out = 5)\n",
    "\n",
    "# plot the scores\n",
    "fig = plt.figure()\n",
    "ax = fig.add_subplot(111)\n",
    "plt.plot(np.arange(len(scores)), scores)\n",
    "plt.ylabel('Score')\n",
    "plt.xlabel('Episode #')\n",
    "plt.show()"
   ]
  },
  {
   "cell_type": "code",
   "execution_count": 9,
   "metadata": {},
   "outputs": [],
   "source": [
    "env.close()"
   ]
  },
  {
   "cell_type": "markdown",
   "metadata": {},
   "source": [
    "## Details of Learning Algorithm"
   ]
  },
  {
   "cell_type": "markdown",
   "metadata": {},
   "source": [
    "For this task we implemented a small variation of the [DDPG](https://arxiv.org/abs/1509.02971) algorithm. These variations are a subset of those implemented in the [D4PG](https://arxiv.org/pdf/1804.08617.pdf) algorithm. \n",
    "\n",
    "Before going into the details of the different variations let us quickly describe the architecture of the actor and the critic networks. This are provided in the [Models](Models.py) module\n",
    " \n",
    "The actor network: This has 5 layers which are as follows\n",
    "\n",
    " - layer 1: input features = 33, output features = 100, activation = selu\n",
    " - layer 2: input features = 100, output features = 50, activation = selu\n",
    " - layer 3: input features = 50, output features = 25, activation = selu\n",
    " - layer 4: input features = 25, output features = 12, activation = selu\n",
    " - layer 5: input features = 12, output features = 4, activation = tanh\n",
    " \n",
    " The critic network: This has 5 layers which are \n",
    " \n",
    " - layer 1: input features = 37, output features = 100, activation = selu\n",
    " - layer 2: input features = 100, output features = 50, activation = selu\n",
    " - layer 3: input features = 50, output features = 25, activation = selu\n",
    " - layer 4: input features = 25, output features = 12, activation = selu\n",
    " - layer 5: input features = 12, output features = 1, activation = None\n",
    " \n",
    "Now, one of the first things that we did different from the classic DDPG agent is that instead of adding the Ornstein-Uhlenbeck (OU) noise to the agent's actions, we simple added a small amount of Gaussion noise. This is based on the observation made in the D4PG paper that suggests that replacing the OU noise with the Gaussian noise has little to no effect on the performance of the agent. \n",
    "\n",
    "Secondly, instead of updating the agent based on a single TD step, we used the [N-step bootstrap](https://arxiv.org/abs/1602.01783). Just like in the D4PG paper we chose N = 5. \n",
    "\n",
    "Note that unlike the D4PG paper, we did not implement a priority reply. Also, again unlike the D4PG paper, our critic did not try to the model the distribution of Q-values but the Q-values themself. \n",
    "\n",
    "Finally, we used the following hyperparameters (almost all of these except the batch_size are based on the values in the D4PG paper):\n",
    "\n",
    "- replay_buffer_size = 1e6\n",
    "- replay_batch = 128\n",
    "- lr_actor = 5e-5\n",
    "- lr_critic = 5e-5\n",
    "- epsilon = 0.3 \n",
    "- tau = 1e-3\n",
    "- gamma = 1\n",
    "- update_interval = 3\n",
    "- noise = Gaussion with a mean of 0 and std. dev. 1\n",
    "\n",
    "Here ```epsilon``` is the factor by which we scale the Gaussian noise before adding it to the agent's actions.\n",
    "\n",
    "\n",
    "We used the Adam optimizer for both the agent and the critic.\n",
    "\n",
    "Our agent learned to solve the environment in 375 episodes. \n",
    "\n",
    "Note that this is a little larger than the number of episodes taken by the benchmark implementation discussed by Udacity's team. However, we will like to point out that from looking at our training graph it is clear that the agent can achieve a much much better score if it is allowed to train further, our training graph having a very nice positive gradient throughout. On the otherhand, the training graph for the benchmark implementation (as can be seen [here](graphs/UdacityBenchmarkImplementation.png)) seems to have plateaued by the time it is able to solve the environment. We thus believe that our agent would have performed significantly better then the benchmark had the avg. score expected from the agent been higher.  \n",
    "\n"
   ]
  },
  {
   "cell_type": "markdown",
   "metadata": {},
   "source": [
    "### Future Improvements"
   ]
  },
  {
   "cell_type": "markdown",
   "metadata": {},
   "source": [
    "Our DDPG agent did a very good job at solving the environment. However, it will be interesting to experiment with techniques such as a prioritized replay buffer and applying the [distributional perpective](http://proceedings.mlr.press/v70/bellemare17a.html) to improve the agent as was done in the D4PG paper. Another interesting thing to try will be to modify the critic so as to learn the Advantage function rather than the Q-value function.\n",
    "\n",
    "On the otherhand, it will also be very interesting to compare this performance with other RL strategies such as the [PPO](https://arxiv.org/pdf/1707.06347.pdf) and the [Asynchronous methods](https://arxiv.org/abs/1602.01783) such as A3C etc."
   ]
  },
  {
   "cell_type": "code",
   "execution_count": null,
   "metadata": {},
   "outputs": [],
   "source": []
  }
 ],
 "metadata": {
  "kernelspec": {
   "display_name": "Python [conda env:drlnd]",
   "language": "python",
   "name": "conda-env-drlnd-py"
  },
  "language_info": {
   "codemirror_mode": {
    "name": "ipython",
    "version": 3
   },
   "file_extension": ".py",
   "mimetype": "text/x-python",
   "name": "python",
   "nbconvert_exporter": "python",
   "pygments_lexer": "ipython3",
   "version": "3.6.10"
  }
 },
 "nbformat": 4,
 "nbformat_minor": 2
}
